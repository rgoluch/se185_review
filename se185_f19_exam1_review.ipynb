{
 "cells": [
  {
   "cell_type": "markdown",
   "metadata": {
    "slideshow": {
     "slide_type": "slide"
    }
   },
   "source": [
    "# SE 185 Exam 1 Review\n",
    "### Fall 2019\n",
    "These slides will be posted to Canvas after the review"
   ]
  },
  {
   "cell_type": "markdown",
   "metadata": {
    "slideshow": {
     "slide_type": "slide"
    }
   },
   "source": [
    "# Possible Exam Topics\n",
    "* Variables\n",
    "* Input/Output\n",
    "* Functions\n",
    "* Branching\n",
    "* Loops\n",
    "* Conversions\n",
    "\n",
    "* Extras\n",
    "    * Compiling \n",
    "    * Math Library Functions\n",
    "    * Random "
   ]
  },
  {
   "cell_type": "markdown",
   "metadata": {
    "slideshow": {
     "slide_type": "slide"
    }
   },
   "source": [
    "# Code Examples: Branches"
   ]
  },
  {
   "cell_type": "code",
   "execution_count": 1,
   "metadata": {
    "slideshow": {
     "slide_type": "fragment"
    }
   },
   "outputs": [
    {
     "name": "stdout",
     "output_type": "stream",
     "text": [
      "Please input 1, 2, or 3: \n",
      "You input a 1\n",
      "You input a 1\n"
     ]
    }
   ],
   "source": [
    "#include <stdio.h>\n",
    "\n",
    "int main() {\n",
    "    int value = 0;\n",
    "    printf(\"Please input 1, 2, or 3: \\n\");\n",
    "    //scanf(\"%d\", &value);\n",
    "    value = 1;\n",
    "\n",
    "    // Two ways to do the same thing\n",
    "    // Method #1\n",
    "    switch(value) {\n",
    "        case 1:\n",
    "            printf(\"You input a 1\\n\");\n",
    "            break;\n",
    "        case 2:\n",
    "            printf(\"You input a 2\\n\");\n",
    "            break;\n",
    "        case 3:\n",
    "            printf(\"You input a 3\\n\");\n",
    "            break;\n",
    "        default:\n",
    "            printf(\"You did not enter a 1, 2, or 3\\n\");\n",
    "    }\n",
    "\n",
    "    // Method #2\n",
    "    if(value == 1) {\n",
    "        printf(\"You input a 1\\n\");\n",
    "    }else if(value == 2) {\n",
    "        printf(\"You input a 2\\n\");\n",
    "    }else if(value == 3) {\n",
    "        printf(\"You input a 3\\n\");\n",
    "    }else {\n",
    "        printf(\"You did not enter a 1, 2, or 3\\n\");\n",
    "    }\n",
    "    return 0;\n",
    "}"
   ]
  },
  {
   "cell_type": "markdown",
   "metadata": {
    "slideshow": {
     "slide_type": "slide"
    }
   },
   "source": [
    "# Code Examples: Functions"
   ]
  },
  {
   "cell_type": "code",
   "execution_count": 2,
   "metadata": {
    "slideshow": {
     "slide_type": "fragment"
    }
   },
   "outputs": [
    {
     "name": "stdout",
     "output_type": "stream",
     "text": [
      "doIntMath evaluates to 63\n",
      "doIntDivide evaluates to 3\n",
      "doDoubleDivide evaluates to 3.333333\n",
      "You can use printfs inside functions\n"
     ]
    }
   ],
   "source": [
    "#include <stdio.h>\n",
    "#include <math.h>\n",
    "\n",
    "int doIntMath(int x, int y, int z);\n",
    "int doIntDivide(int x, int y, int z);\n",
    "double doDoubleDivide(int x, int y, int z);\n",
    "void printStuff();\n",
    "\n",
    "int main() {\n",
    "    int x = 2, y = 5, z = 3;\n",
    "    printf(\"doIntMath evaluates to %d\\n\", doIntMath(x, y, z));\n",
    "    // prints \"doIntMath evaluates to 63\"\n",
    "\n",
    "    printf(\"doIntDivide evaluates to %d\\n\", doIntDivide(x, y, z));\n",
    "    // prints \"doDoubleMath evaluates to 3\"\n",
    "\n",
    "    printf(\"doDoubleDivide evaluates to %lf\\n\", doDoubleDivide(x, y, z));\n",
    "    // prints \"doDoubleMath evaluates to 3.333333\"\n",
    "\n",
    "    printStuff();\n",
    "\n",
    "    return 0;\n",
    "}\n",
    "\n",
    "int doIntMath(int x, int y, int z) {\n",
    "    return (x + y) * pow(z, 2);\n",
    "}\n",
    "\n",
    "// This function expects z to be non-zero\n",
    "int doIntDivide(int x, int y, int z) {\n",
    "    return (x * y) / z;\n",
    "}\n",
    "\n",
    "// This function expects z to be non-zero\n",
    "double doDoubleDivide(int x, int y, int z) {\n",
    "     return (x * y) / (double) z;\n",
    "}\n",
    "\n",
    "void printStuff() {\n",
    "    printf(\"You can use printfs inside functions\\n\");\n",
    "}"
   ]
  },
  {
   "cell_type": "markdown",
   "metadata": {
    "slideshow": {
     "slide_type": "slide"
    }
   },
   "source": [
    "# Code Examples: Loops"
   ]
  },
  {
   "cell_type": "code",
   "execution_count": null,
   "metadata": {
    "slideshow": {
     "slide_type": "fragment"
    }
   },
   "outputs": [],
   "source": [
    "#include <stdio.h>\n",
    "\n",
    "int main() {\n",
    "    int i = 0, j = 0, k = 0;\n",
    "    // Three ways to do the same thing\n",
    "    // Method #1\n",
    "    for(i = 0; i < 5; i++) {\n",
    "           printf(\" %d\", i); // prints \" 0 1 2 3 4\"\n",
    "    }\n",
    "    printf(\"\\n\");\n",
    "\n",
    "    // Method #2\n",
    "    while(j < 5) {\n",
    "        printf(\" %d\", j); // prints \" 0 1 2 3 4\"\n",
    "        j++;\n",
    "    }\n",
    "    printf(\"\\n\");\n",
    "\n",
    "    // Method #3\n",
    "    do {\n",
    "        printf(\" %d\", k); // prints \" 0 1 2 3 4\"\n",
    "        k++;\n",
    "    } while(k < 5);\n",
    "    printf(\"\\n\");\n",
    "\n",
    "    return 0;\n",
    "}"
   ]
  },
  {
   "cell_type": "markdown",
   "metadata": {
    "slideshow": {
     "slide_type": "slide"
    }
   },
   "source": [
    "# Code Examples: Random Function"
   ]
  },
  {
   "cell_type": "code",
   "execution_count": null,
   "metadata": {
    "slideshow": {
     "slide_type": "fragment"
    }
   },
   "outputs": [],
   "source": [
    "#include <stdio.h>\n",
    "#include <stdlib.h> // Contains rand() and srand()\n",
    "#include <time.h>   // Contains time()\n",
    "\n",
    "void printRandom();\n",
    "void printRandomBetween1And10();\n",
    "\n",
    "int main() {\n",
    "    srand(time(NULL));\n",
    "\n",
    "    printf(\"Below will print random numbers with no constraints\\n\");\n",
    "    for(int i = 0; i < 5; i++) {\n",
    "        printRandom();\n",
    "    }\n",
    "\n",
    "    printf(\"\\n\\nBelow will print random numbers between 1 and 10\\n\");\n",
    "    for(int i = 0; i < 5; i++) {\n",
    "        printRandomBetween1And10();\n",
    "    }\n",
    "\n",
    "    printf(\"\\n\");\n",
    "\n",
    "    return 0;\n",
    "}\n",
    "\n",
    "void printRandom() {\n",
    "    printf(\" %d \", rand());\n",
    "}\n",
    "\n",
    "void printRandomBetween1And10() {\n",
    "    printf(\" %d \", (rand() % 10) + 1);\n",
    "}"
   ]
  },
  {
   "cell_type": "markdown",
   "metadata": {
    "slideshow": {
     "slide_type": "slide"
    }
   },
   "source": [
    "# Variables\n",
    "* Types\n",
    "    * int\n",
    "    * float\n",
    "    * double\n",
    "    * char\n",
    "* Must start in a letter or underscore\n",
    "* Can use const with any variable\n",
    "    * Ex: ```const int TRUE = 1;```"
   ]
  },
  {
   "cell_type": "markdown",
   "metadata": {
    "slideshow": {
     "slide_type": "slide"
    }
   },
   "source": [
    "# Input/Output\n",
    "\n",
    "`printf()`\n",
    "* `printf(\"%d + %d = %d\\n\", 1, 1, 2);`\n",
    "\n",
    "```scanf()```\n",
    "* `scanf(\"*format specifiers*\", & + *variable to scan into*);`\n",
    "* Need `&` in front of variables in `scanf`\n",
    "* Ex: `scanf(\"%d\", &scannedInt);`\n",
    "\n",
    "#### Format Specifiers\n",
    "* `%d` - int\n",
    "* `%f` - float\n",
    "* `%lf` - double\n",
    "* `%c` - char\n",
    "* `%s` - string"
   ]
  },
  {
   "cell_type": "markdown",
   "metadata": {
    "slideshow": {
     "slide_type": "slide"
    }
   },
   "source": [
    "# Functions\n",
    "* Same types as variables\n",
    "* Can also use `void` type\n",
    "\n",
    "#### Sample Format\n",
    "`returnType functionName(function parameters){ function body... return returnType;}`"
   ]
  },
  {
   "cell_type": "markdown",
   "metadata": {
    "slideshow": {
     "slide_type": "slide"
    }
   },
   "source": [
    "# Branches\n",
    "* `if/else if/else`\n",
    "    * Must use if first\n",
    "    * else if must come between if and else\n",
    "    * else must be last\n",
    "* Switch statements\n",
    "    * `switch` comes first and has one parameter (i.e. `switch(switchCase)`)\n",
    "    * Cases come after `switch`\n",
    "    * Use `break` statements to exit cases\n",
    "    * Has a `default` case"
   ]
  },
  {
   "cell_type": "markdown",
   "metadata": {
    "slideshow": {
     "slide_type": "slide"
    }
   },
   "source": [
    "# Loops\n",
    "* For loops\n",
    "    * Manages loop variables for you\n",
    "    * Format:   `for(variable; condition; variable-change) { }`\n",
    "* While loops\n",
    "    * Runs until the given statement is false\n",
    "    * Format:     `while(condition) { }`\n",
    "* Do while loops\n",
    "    * Runs first, then checks the condition. Otherwise exactly the same as while loops.\n",
    "    * Format:   `do { } while(condition);`"
   ]
  },
  {
   "cell_type": "markdown",
   "metadata": {
    "slideshow": {
     "slide_type": "slide"
    }
   },
   "source": [
    "# Conversions: Decimal --> Binary\n",
    "![title](d_b.png)"
   ]
  },
  {
   "cell_type": "markdown",
   "metadata": {
    "slideshow": {
     "slide_type": "slide"
    }
   },
   "source": [
    "# Conversions: Decimal --> Hex\n",
    "![title](d_h.png)"
   ]
  },
  {
   "cell_type": "markdown",
   "metadata": {
    "slideshow": {
     "slide_type": "slide"
    }
   },
   "source": [
    "# Conversions: Binary --> Octal\n",
    "![title](b_o.png)"
   ]
  },
  {
   "cell_type": "markdown",
   "metadata": {
    "slideshow": {
     "slide_type": "slide"
    }
   },
   "source": [
    "# Compiling\n",
    "* Turn human-readable code into machine code\n",
    "* Format:\n",
    "\n",
    "    `gcc -o executableName cFileName.c`\n",
    " OR \n",
    "    `gcc cFileName.c -o executableName`\n",
    "* There are a number of optional flags, but you do not need to know them"
   ]
  },
  {
   "cell_type": "markdown",
   "metadata": {
    "slideshow": {
     "slide_type": "slide"
    }
   },
   "source": [
    "# Math.h Library\n",
    "\n",
    "### Relevant functions\n",
    "`sqrt(x)`\n",
    "* Returns the square root of x\n",
    "\n",
    "`pow(x, y)`\n",
    "* Returns x to the power of y (x^y)\n",
    "\n",
    "`fabs(x)`\n",
    "* Returns the absolute value of x\n"
   ]
  },
  {
   "cell_type": "markdown",
   "metadata": {
    "slideshow": {
     "slide_type": "slide"
    }
   },
   "source": [
    "# Random Function\n",
    "\n",
    "#### Relevant functions\n",
    "`rand()`\n",
    "* Returns a random number\n",
    "\n",
    "`srand()`\n",
    "* Seeds the random number generator used by `rand(seed)` with the value seed\n",
    "\n",
    "`time()`\n",
    "* Can be used in `srand()` to give a new seed every time the program is run\n",
    "\n",
    "#### Format\n",
    "`(rand() % MAX) + MIN`"
   ]
  },
  {
   "cell_type": "markdown",
   "metadata": {
    "slideshow": {
     "slide_type": "slide"
    }
   },
   "source": [
    "# Sample Problems"
   ]
  },
  {
   "cell_type": "markdown",
   "metadata": {
    "slideshow": {
     "slide_type": "slide"
    }
   },
   "source": [
    "1. The null character, `\\0`, is counted when taking the length of a string.\n",
    "    * True\n",
    "    * False\n",
    "2. What is the correct value of `y` when `y=x++` and `x=5`?\n",
    "    * 4\n",
    "    * 7\n",
    "    * 5\n",
    "    * 6\n",
    "    * None of the above\n",
    "3. Which of the following is NOT a logical operator?\n",
    "    * `>`\n",
    "    * `<` \n",
    "    * `==`\n",
    "    * `>=`\n",
    "    * `=!`"
   ]
  },
  {
   "cell_type": "markdown",
   "metadata": {
    "slideshow": {
     "slide_type": "slide"
    }
   },
   "source": [
    "## What is the correct answer for the code shown below? "
   ]
  },
  {
   "cell_type": "code",
   "execution_count": null,
   "metadata": {
    "slideshow": {
     "slide_type": "fragment"
    }
   },
   "outputs": [],
   "source": [
    "int x = 6; \n",
    "int y = 5;\n",
    "int z = 7;\n",
    "\n",
    "if (x < y){\n",
    "    if (y != 0){\n",
    "        return z;\n",
    "    }else{\n",
    "        return z+1;\n",
    "    }\n",
    "}else{\n",
    "    return x;\n",
    "}"
   ]
  },
  {
   "cell_type": "markdown",
   "metadata": {
    "slideshow": {
     "slide_type": "slide"
    }
   },
   "source": [
    "Which library would you need to `#includ<...>` if you want to use the `pow(x,y)` in your code?\n",
    "\n",
    "What is the purpose of using `time(0)` as a parameter of the `srand(...)` function?\n",
    "\n",
    "How are strings represnted in memory?\n",
    "\n"
   ]
  },
  {
   "cell_type": "markdown",
   "metadata": {
    "slideshow": {
     "slide_type": "slide"
    }
   },
   "source": [
    "What is the effect of executing each of the following program-segments, for the specifid inputs? \n",
    "\n",
    "You are free to assume that all the required libraries have already been `#include<...>`-ed"
   ]
  },
  {
   "cell_type": "code",
   "execution_count": null,
   "metadata": {
    "slideshow": {
     "slide_type": "fragment"
    }
   },
   "outputs": [],
   "source": [
    "char text1[20] = \"How are you?\";\n",
    "char text2[20];\n",
    "scanf(\"%s\", text2); //Assume the user types How are you\n",
    "printf(\"%s \\n\", text2);\n",
    "strcpy(text1, text2);\n",
    "printf(\"%s \\n\", text1);"
   ]
  },
  {
   "cell_type": "markdown",
   "metadata": {
    "slideshow": {
     "slide_type": "slide"
    }
   },
   "source": [
    "The Fibonacci sequence is a set of numbers that starts with a one\n",
    "or a zero, followed by a one, and proceeds based on the rule that each number\n",
    "is equal to the sume of the preceding two numbers. \n",
    "For example, F(1) = 1, 1, 2, 3, 5, 8, 13, 21, 34, 55\n",
    "\n",
    "The program below computes Fibonacci numbers. It has a set of errors.\n",
    "Identify 8 of the errors."
   ]
  },
  {
   "cell_type": "code",
   "execution_count": null,
   "metadata": {
    "slideshow": {
     "slide_type": "fragment"
    }
   },
   "outputs": [],
   "source": [
    "#include <stdio.h>\n",
    "\n",
    "int main(){\n",
    "    int n, first, second, next, c;\n",
    "    printf(\"Enter the number of terms\\n\");\n",
    "    scanf(\"%d\", n);\n",
    "    printf(\"First terms of the Fibonacci series are:-\\n\", n);\n",
    "    \n",
    "    for(c = 0, c < n, c++){\n",
    "        if(c <= 1)\n",
    "            next = c\n",
    "        else{\n",
    "            next = first + second;\n",
    "            first = second; \n",
    "            second = next;\n",
    "        }\n",
    "        printf(\"%d\\n', next);\n",
    "    }\n",
    "    return 0;\n",
    "}"
   ]
  },
  {
   "cell_type": "markdown",
   "metadata": {
    "slideshow": {
     "slide_type": "slide"
    }
   },
   "source": [
    "What is the effect of executing each of the following program segments, for the specified inputs? (see comments)\n",
    "\n",
    "You may assume that all the required libraries have already been `#included<...>`-ed"
   ]
  },
  {
   "cell_type": "code",
   "execution_count": null,
   "metadata": {
    "slideshow": {
     "slide_type": "fragment"
    }
   },
   "outputs": [],
   "source": [
    "//What is the output of the program for a married 48 years old\n",
    "//citzen, making 80,000 a year?\n",
    "\n",
    "int age;\n",
    "double income;\n",
    "char status;\n",
    "double tax_category;\n",
    "\n",
    "scanf(\"Enter your age: %d\", &age);\n",
    "scanf(\"Enter your income: %lf\", &income);\n",
    "scanf(\"Enter your marital status: %c\", &status);\n",
    "\n",
    "if((age <= 50) && (status == 's')){\n",
    "    if (income > 60000){\n",
    "        tax_category = 0.37;\n",
    "    } else {\n",
    "        tax_category = 0.34;\n",
    "    }\n",
    "} else if((age <= 50) && (status = 'm')){\n",
    "    if (income > 60000){\n",
    "        tax_category = 0.3;\n",
    "    }else{\n",
    "        tax_category = 0.25;\n",
    "    }\n",
    "} else {\n",
    "    if (income > 60000){\n",
    "        tax_category = 0.35;\n",
    "    } else {\n",
    "        tax_category = 0.3;\n",
    "    }\n",
    "}\n",
    "printf(\"Your tax category is: %lf %%\\n\", 100*tax_category);\n",
    "printf(\"Your total tax is: %lf\\n\", income*tax_category);"
   ]
  },
  {
   "cell_type": "markdown",
   "metadata": {
    "slideshow": {
     "slide_type": "slide"
    }
   },
   "source": [
    "A combination is a selection of items from a set, such that the order of selection does not matter. For example, given 3 students, there are 3 combinations of 2 student pairs that can be drawn from this set. The formula for the number of combinations is $\\frac{n!}{k!(n-k)!}$ Where _*n*_ is the size of the set and _*k*_ is the number of distinct elements of the subset. (Recall that 4! = 4 * 3 * 2 * 1)\n",
    "\n",
    "Write a program that accepts 2 integers, the size of the set and the size of the subset, and computes the number of combinations. "
   ]
  },
  {
   "cell_type": "code",
   "execution_count": null,
   "metadata": {
    "slideshow": {
     "slide_type": "fragment"
    }
   },
   "outputs": [],
   "source": []
  },
  {
   "cell_type": "markdown",
   "metadata": {
    "slideshow": {
     "slide_type": "slide"
    }
   },
   "source": [
    "Write a C program that will: \n",
    "* Read three (3) integers as input\n",
    "* Will print the value of the largest of those three (3) as output"
   ]
  },
  {
   "cell_type": "code",
   "execution_count": null,
   "metadata": {
    "slideshow": {
     "slide_type": "fragment"
    }
   },
   "outputs": [],
   "source": []
  }
 ],
 "metadata": {
  "kernelspec": {
   "display_name": "C",
   "language": "c",
   "name": "c"
  },
  "language_info": {
   "file_extension": ".c",
   "mimetype": "text/plain",
   "name": "c"
  }
 },
 "nbformat": 4,
 "nbformat_minor": 2
}
